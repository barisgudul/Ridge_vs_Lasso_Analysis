{
 "cells": [
  {
   "cell_type": "markdown",
   "id": "f698cf9f-1f59-4b9f-9115-d4e6a0e0f3ec",
   "metadata": {},
   "source": [
    "# Ridge vs Lasso Regression"
   ]
  },
  {
   "cell_type": "code",
   "execution_count": 25,
   "id": "be696cc6-63a1-4ca4-8396-4c6c4277e136",
   "metadata": {},
   "outputs": [],
   "source": [
    "import pandas as pd\n",
    "import numpy as np\n",
    "import seaborn as sns"
   ]
  },
  {
   "cell_type": "code",
   "execution_count": 3,
   "id": "438def29-047f-4141-b129-8776abd98424",
   "metadata": {},
   "outputs": [
    {
     "name": "stdout",
     "output_type": "stream",
     "text": [
      "<class 'pandas.core.frame.DataFrame'>\n",
      "RangeIndex: 768 entries, 0 to 767\n",
      "Data columns (total 9 columns):\n",
      " #   Column       Non-Null Count  Dtype  \n",
      "---  ------       --------------  -----  \n",
      " 0   pregnancies  768 non-null    int64  \n",
      " 1   glucose      768 non-null    int64  \n",
      " 2   diastolic    768 non-null    int64  \n",
      " 3   triceps      768 non-null    int64  \n",
      " 4   insulin      768 non-null    int64  \n",
      " 5   bmi          768 non-null    float64\n",
      " 6   dpf          768 non-null    float64\n",
      " 7   age          768 non-null    int64  \n",
      " 8   diabetes     768 non-null    int64  \n",
      "dtypes: float64(2), int64(7)\n",
      "memory usage: 54.1 KB\n"
     ]
    }
   ],
   "source": [
    "dataset = pd.read_csv(\"dataset/diabetes_clean.csv\")\n",
    "dataset.info()"
   ]
  },
  {
   "cell_type": "code",
   "execution_count": 7,
   "id": "d90d4fbd-75f1-4873-bea0-0163c98c4128",
   "metadata": {},
   "outputs": [],
   "source": [
    "X = dataset.drop(\"glucose\",axis=1).values\n",
    "y = dataset[\"glucose\"].values"
   ]
  },
  {
   "cell_type": "markdown",
   "id": "384e4a45-b171-437a-97f9-373db2f95bba",
   "metadata": {},
   "source": [
    "### Add Ridge and Lasso Params"
   ]
  },
  {
   "cell_type": "code",
   "execution_count": 10,
   "id": "7dbfda9d-3ea1-4fa5-a45c-34dea67fcf10",
   "metadata": {},
   "outputs": [],
   "source": [
    "from sklearn.linear_model import Ridge, Lasso\n",
    "from sklearn.model_selection import GridSearchCV\n",
    "\n",
    "ridge_params = {\"alpha\": [0.1,1,10,100,1000]}\n",
    "lasso_params = {\"alpha\": [0.1,1,10,100,1000]}"
   ]
  },
  {
   "cell_type": "markdown",
   "id": "6eb944b4-a348-4834-ac28-6b69771f597e",
   "metadata": {},
   "source": [
    "### GridSearchCV for Ridge Regression"
   ]
  },
  {
   "cell_type": "code",
   "execution_count": 13,
   "id": "eb6a5993-3adf-435d-b55f-2a03ed56be35",
   "metadata": {},
   "outputs": [
    {
     "name": "stdout",
     "output_type": "stream",
     "text": [
      "Ridge Best Parameter: {'alpha': 1}\n"
     ]
    }
   ],
   "source": [
    "ridge = Ridge()\n",
    "ridge_search = GridSearchCV(ridge,ridge_params, cv=5)\n",
    "ridge_search.fit(X,y)\n",
    "print(\"Ridge Best Parameter:\", ridge_search.best_params_)"
   ]
  },
  {
   "cell_type": "markdown",
   "id": "36adfe2b-d7b7-4167-b843-86496dc264c0",
   "metadata": {},
   "source": [
    "### GridSearchCV for Lasso Regression"
   ]
  },
  {
   "cell_type": "code",
   "execution_count": 14,
   "id": "1fae3203-200a-4d2d-b3ac-e1126aec7402",
   "metadata": {},
   "outputs": [
    {
     "name": "stdout",
     "output_type": "stream",
     "text": [
      "Lasso Best Parameter: {'alpha': 0.1}\n"
     ]
    }
   ],
   "source": [
    "lasso = Lasso()\n",
    "lasso_search = GridSearchCV(lasso, lasso_params, cv=5)\n",
    "lasso_search.fit(X,y)\n",
    "print(\"Lasso Best Parameter:\",lasso_search.best_params_)"
   ]
  },
  {
   "cell_type": "markdown",
   "id": "2af63c1c-9d7c-4fc7-90d8-2e37dcf2b5d4",
   "metadata": {},
   "source": [
    "### Best Ridge Model Coefs"
   ]
  },
  {
   "cell_type": "code",
   "execution_count": 19,
   "id": "8dd6fc3d-5fb4-4ead-941a-9b7f57679323",
   "metadata": {},
   "outputs": [],
   "source": [
    "best_ridge_model = ridge_search.best_estimator_\n",
    "ridge_coef = best_ridge_model.coef_"
   ]
  },
  {
   "cell_type": "markdown",
   "id": "16fe6669-01fe-41cb-9743-b1f5bfd1d3c9",
   "metadata": {},
   "source": [
    "### Best Lasso Model Coefs"
   ]
  },
  {
   "cell_type": "code",
   "execution_count": 20,
   "id": "f5e739b0-8319-4135-b339-1ab7fedac6b1",
   "metadata": {},
   "outputs": [],
   "source": [
    "best_lasso_model = lasso_search.best_estimator_\n",
    "lasso_coef = best_lasso_model.coef_"
   ]
  },
  {
   "cell_type": "markdown",
   "id": "202e5a58-70d3-40d1-aead-8061d992e5ca",
   "metadata": {},
   "source": [
    "### Creating DataFrame for Comparison"
   ]
  },
  {
   "cell_type": "code",
   "execution_count": 24,
   "id": "142dabfb-824d-4390-a140-9f9ac970bc76",
   "metadata": {},
   "outputs": [
    {
     "data": {
      "text/html": [
       "<div>\n",
       "<style scoped>\n",
       "    .dataframe tbody tr th:only-of-type {\n",
       "        vertical-align: middle;\n",
       "    }\n",
       "\n",
       "    .dataframe tbody tr th {\n",
       "        vertical-align: top;\n",
       "    }\n",
       "\n",
       "    .dataframe thead th {\n",
       "        text-align: right;\n",
       "    }\n",
       "</style>\n",
       "<table border=\"1\" class=\"dataframe\">\n",
       "  <thead>\n",
       "    <tr style=\"text-align: right;\">\n",
       "      <th></th>\n",
       "      <th>Column Name</th>\n",
       "      <th>Ridge Coefs</th>\n",
       "      <th>Lasso Coefs</th>\n",
       "    </tr>\n",
       "  </thead>\n",
       "  <tbody>\n",
       "    <tr>\n",
       "      <th>0</th>\n",
       "      <td>pregnancies</td>\n",
       "      <td>-0.461839</td>\n",
       "      <td>-0.447446</td>\n",
       "    </tr>\n",
       "    <tr>\n",
       "      <th>1</th>\n",
       "      <td>diastolic</td>\n",
       "      <td>0.117698</td>\n",
       "      <td>0.116629</td>\n",
       "    </tr>\n",
       "    <tr>\n",
       "      <th>2</th>\n",
       "      <td>triceps</td>\n",
       "      <td>-0.288833</td>\n",
       "      <td>-0.286273</td>\n",
       "    </tr>\n",
       "    <tr>\n",
       "      <th>3</th>\n",
       "      <td>insulin</td>\n",
       "      <td>0.090184</td>\n",
       "      <td>0.090614</td>\n",
       "    </tr>\n",
       "    <tr>\n",
       "      <th>4</th>\n",
       "      <td>bmi</td>\n",
       "      <td>0.310577</td>\n",
       "      <td>0.316197</td>\n",
       "    </tr>\n",
       "    <tr>\n",
       "      <th>5</th>\n",
       "      <td>dpf</td>\n",
       "      <td>1.703777</td>\n",
       "      <td>0.814904</td>\n",
       "    </tr>\n",
       "    <tr>\n",
       "      <th>6</th>\n",
       "      <td>age</td>\n",
       "      <td>0.485121</td>\n",
       "      <td>0.486415</td>\n",
       "    </tr>\n",
       "    <tr>\n",
       "      <th>7</th>\n",
       "      <td>diabetes</td>\n",
       "      <td>24.865994</td>\n",
       "      <td>24.601176</td>\n",
       "    </tr>\n",
       "  </tbody>\n",
       "</table>\n",
       "</div>"
      ],
      "text/plain": [
       "   Column Name  Ridge Coefs  Lasso Coefs\n",
       "0  pregnancies    -0.461839    -0.447446\n",
       "1    diastolic     0.117698     0.116629\n",
       "2      triceps    -0.288833    -0.286273\n",
       "3      insulin     0.090184     0.090614\n",
       "4          bmi     0.310577     0.316197\n",
       "5          dpf     1.703777     0.814904\n",
       "6          age     0.485121     0.486415\n",
       "7     diabetes    24.865994    24.601176"
      ]
     },
     "execution_count": 24,
     "metadata": {},
     "output_type": "execute_result"
    }
   ],
   "source": [
    "names = dataset.drop(\"glucose\",axis=1).columns\n",
    "coefs_df = pd.DataFrame({\n",
    "    \"Column Name\": names,\n",
    "    \"Ridge Coefs\": ridge_coef,\n",
    "    \"Lasso Coefs\": lasso_coef\n",
    "})\n",
    "coefs_df"
   ]
  },
  {
   "cell_type": "code",
   "execution_count": 36,
   "id": "eb001f72-2660-4715-852b-48dcf212fe4e",
   "metadata": {},
   "outputs": [
    {
     "data": {
      "image/png": "[encoded data removed]",
      "text/plain": [
       "<Figure size 1400x800 with 2 Axes>"
      ]
     },
     "metadata": {},
     "output_type": "display_data"
    }
   ],
   "source": [
    "import seaborn as sns\n",
    "import matplotlib.pyplot as plt\n",
    "\n",
    "# Adjust figure size\n",
    "plt.figure(figsize=(14, 8))\n",
    "\n",
    "# Ridge Coefficients Visualization\n",
    "plt.subplot(1, 2, 1)\n",
    "ax1 = sns.barplot(x='Ridge Coefs', y='Column Name', data=coefs_df, color='royalblue')\n",
    "plt.title('Ridge Regression Coefficients')\n",
    "plt.xlabel('Coefficient Value')\n",
    "plt.ylabel('Features')\n",
    "\n",
    "# Add coefficient values on top of the bars\n",
    "for i in range(len(coefs_df)):\n",
    "    ax1.text(coefs_df['Ridge Coefs'][i] + 0.2, i, round(coefs_df['Ridge Coefs'][i], 2), \n",
    "             color='black', ha=\"left\", va=\"center\", fontsize=18)\n",
    "\n",
    "# Lasso Coefficients Visualization\n",
    "plt.subplot(1, 2, 2)\n",
    "ax2 = sns.barplot(x='Lasso Coefs', y='Column Name', data=coefs_df, color='darkorange')\n",
    "plt.title('Lasso Regression Coefficients')\n",
    "plt.xlabel('Coefficient Value')\n",
    "plt.ylabel('Features')\n",
    "\n",
    "# Add coefficient values on top of the bars\n",
    "for i in range(len(coefs_df)):\n",
    "    ax2.text(coefs_df['Lasso Coefs'][i] + 0.2, i, round(coefs_df['Lasso Coefs'][i], 2), \n",
    "             color='black', ha=\"left\", va=\"center\", fontsize=18)\n",
    "\n",
    "# Adjust layout for proper display\n",
    "plt.tight_layout()\n",
    "plt.savefig(\"results/RvsL.png\")\n",
    "plt.show()\n"
   ]
  }
 ],
 "metadata": {
  "kernelspec": {
   "display_name": "Python 3 (ipykernel)",
   "language": "python",
   "name": "python3"
  },
  "language_info": {
   "codemirror_mode": {
    "name": "ipython",
    "version": 3
   },
   "file_extension": ".py",
   "mimetype": "text/x-python",
   "name": "python",
   "nbconvert_exporter": "python",
   "pygments_lexer": "ipython3",
   "version": "3.10.16"
  }
 },
 "nbformat": 4,
 "nbformat_minor": 5
}
